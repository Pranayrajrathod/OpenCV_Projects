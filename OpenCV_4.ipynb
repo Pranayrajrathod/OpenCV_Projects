{
 "cells": [
  {
   "cell_type": "code",
   "execution_count": 4,
   "id": "24468972-da07-41f3-9781-fc44f7cde8f0",
   "metadata": {},
   "outputs": [],
   "source": [
    "import cv2\n",
    "import numpy"
   ]
  },
  {
   "cell_type": "markdown",
   "id": "5e93a124-54ca-4088-bb7a-495e9828eac4",
   "metadata": {},
   "source": [
    "LIVE VIDEO CAPTURING FROM WEB CAM ABD RECOGNIZING FACES ANF EYES"
   ]
  },
  {
   "cell_type": "code",
   "execution_count": 7,
   "id": "93c1cdae-3b27-4a14-8495-dd1bf0f192c9",
   "metadata": {},
   "outputs": [
    {
     "name": "stdout",
     "output_type": "stream",
     "text": [
      "Program closed because no face detected for a long period of time\n"
     ]
    }
   ],
   "source": [
    "video=cv2.VideoCapture(0)\n",
    "#(0) here stands for the web cam and if we need to acces any external webcams we can replace the parameter with (1)\n",
    "face_classifier=cv2.CascadeClassifier(\"OpenCV/HaarCascade/haarcascade_frontalface_default.xml\")\n",
    "#Haar face classifer\n",
    "eye_classifier=cv2.CascadeClassifier(\"OpenCV/HaarCascade/haarcascade_eye.xml\")\n",
    "#haar eye classifier\n",
    "break_threshold=0\n",
    "while(True):\n",
    "    ret,frame=video.read()\n",
    "    # ret is the return value and the frame is the each frame in the video\n",
    "    gray=cv2.cvtColor(frame,cv2.COLOR_BGR2GRAY)\n",
    "    # we convert the image in to gray scale initially for easy processing in haar cascade\n",
    "    faces=face_classifier.detectMultiScale(gray,1.2,3)\n",
    "    if(len(faces)==0):\n",
    "        # print(\"No faces found\")\n",
    "        # print(break_threshold)\n",
    "        break_threshold+=1\n",
    "        if(break_threshold==99):\n",
    "            # print(break_threshold)\n",
    "            print(\"Program closed because no face detected for a long period of time\")\n",
    "            break\n",
    "    else:\n",
    "        break_threshold=0\n",
    "    # the calssifier returns a tuple of values which are like ( start x-coordinate ,y-coordinate ,width ,height )\n",
    "    for x,y,w,h in faces:\n",
    "        #detect eyes only inside the face so crop the face only and search in the face for eyes\n",
    "        roi_gray=gray[y:y+h,x:x+w]\n",
    "        roi_frame=frame[y:y+h,x:x+w]\n",
    "        eyes=eye_classifier.detectMultiScale(roi_gray,1.2,10,minSize=(30,30))\n",
    "        #classifier of eyes inside the face similarly returns a tuple of tuples\n",
    "        for a,b,c,d in eyes:\n",
    "            cv2.rectangle(roi_frame,(a,b),(a+c,b+d),(0,250,0),2)\n",
    "            #creating boundary box for eyes\n",
    "        cv2.rectangle(frame,(x,y),(x+w,y+h),(250,0,0),2)\n",
    "        # creating boundary box for faces\n",
    "    cv2.imshow(\"video capturing\",frame)\n",
    "    #displaying the face with boundary box\n",
    "    key=cv2.waitKey(1)\n",
    "    if(key==ord(\"q\")):\n",
    "        break\n",
    "cv2.destroyAllWindows() \n",
    "video.release()"
   ]
  },
  {
   "cell_type": "code",
   "execution_count": null,
   "id": "6e107e8f-7c4c-4e76-938a-893d710883a6",
   "metadata": {},
   "outputs": [],
   "source": []
  }
 ],
 "metadata": {
  "kernelspec": {
   "display_name": "Python [conda env:base] *",
   "language": "python",
   "name": "conda-base-py"
  },
  "language_info": {
   "codemirror_mode": {
    "name": "ipython",
    "version": 3
   },
   "file_extension": ".py",
   "mimetype": "text/x-python",
   "name": "python",
   "nbconvert_exporter": "python",
   "pygments_lexer": "ipython3",
   "version": "3.12.7"
  }
 },
 "nbformat": 4,
 "nbformat_minor": 5
}
