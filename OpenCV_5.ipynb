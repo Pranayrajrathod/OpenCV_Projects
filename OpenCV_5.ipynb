{
 "cells": [
  {
   "cell_type": "code",
   "execution_count": 1,
   "id": "f00c604e-a8e3-43a7-b4f4-6a04d50dfd16",
   "metadata": {},
   "outputs": [],
   "source": [
    "import cv2\n",
    "import time"
   ]
  },
  {
   "cell_type": "code",
   "execution_count": 66,
   "id": "bfb96417-90af-4aac-abf8-da372e1ad45e",
   "metadata": {},
   "outputs": [
    {
     "name": "stdout",
     "output_type": "stream",
     "text": [
      "PROCESS TERMINATED: total people detected are 4\n"
     ]
    }
   ],
   "source": [
    "body_classifier=cv2.CascadeClassifier(\"OpenCV/HaarCascade/haarcascade_fullbody.xml\")\n",
    "video=cv2.VideoCapture(\"OpenCV/SampleImages/walking.avi\")\n",
    "max_len=0\n",
    "while(video.isOpened()):\n",
    "    ret,frame=video.read()\n",
    "    if(not ret):\n",
    "        break\n",
    "    gray=cv2.cvtColor(frame,cv2.COLOR_BGR2GRAY)\n",
    "    bodies=body_classifier.detectMultiScale(gray,1.1,3)    \n",
    "    max_len=max(max_len,len(bodies))\n",
    "    if(cv2.waitKey(1)==13):\n",
    "        break\n",
    "    text=f\"max no of people are {max_len}\"\n",
    "    position = (20, 500)\n",
    "    font = cv2.FONT_HERSHEY_SIMPLEX\n",
    "    font_scale = 1\n",
    "    color = (0, 255, 0)  # Green in BGR\n",
    "    thickness = 2\n",
    "    for x,y,w,h in bodies:\n",
    "        cv2.rectangle(frame,(x,y),(x+w,y+h),(0,255,255),2)\n",
    "        cv2.putText(img=frame, text=text, org=position, fontFace=font, fontScale=font_scale, color=color, thickness=thickness)\n",
    "        cv2.imshow(\"pedestrian detection\",frame)\n",
    "video.release()\n",
    "cv2.destroyAllWindows()\n",
    "print(f\"PROCESS TERMINATED: total people detected are {max_len}\")"
   ]
  },
  {
   "cell_type": "code",
   "execution_count": 94,
   "id": "a1f8d00d-63d4-417a-a98a-c07bcacf6679",
   "metadata": {},
   "outputs": [
    {
     "name": "stdout",
     "output_type": "stream",
     "text": [
      "PROCESS TERMINATED\n"
     ]
    }
   ],
   "source": [
    "car_classifier=cv2.CascadeClassifier(\"OpenCV/HaarCascade/haarcascade_car.xml\")\n",
    "video=cv2.VideoCapture(\"OpenCV/SampleImages/cars.avi\")\n",
    "while(video.isOpened()):\n",
    "    time.sleep(0.05)\n",
    "    ret,frame=video.read()\n",
    "    if(not ret):\n",
    "        break\n",
    "    gray=cv2.cvtColor(frame,cv2.COLOR_BGR2GRAY)\n",
    "    cars=car_classifier.detectMultiScale(gray,1.4,2)    \n",
    "    for (x,y,w,h) in cars:\n",
    "        cv2.rectangle(frame,(x,y),(x+w,y+h),(0,255,255),2)\n",
    "        cv2.putText(img=frame,text=\"car detection\",org=(50,50),fontFace=cv2.FONT_HERSHEY_SIMPLEX,fontScale=1,color=(0,0,200),thickness=2)\n",
    "        cv2.imshow(\"car detection\",frame)\n",
    "    if(cv2.waitKey(1)==13):\n",
    "        break\n",
    "    \n",
    "video.release()\n",
    "cv2.destroyAllWindows()\n",
    "print(f\"PROCESS TERMINATED\")"
   ]
  },
  {
   "cell_type": "code",
   "execution_count": null,
   "id": "39375ef0-dd9d-4665-91c0-b9199b88f1b6",
   "metadata": {},
   "outputs": [],
   "source": [
    "\n"
   ]
  }
 ],
 "metadata": {
  "kernelspec": {
   "display_name": "Python [conda env:base] *",
   "language": "python",
   "name": "conda-base-py"
  },
  "language_info": {
   "codemirror_mode": {
    "name": "ipython",
    "version": 3
   },
   "file_extension": ".py",
   "mimetype": "text/x-python",
   "name": "python",
   "nbconvert_exporter": "python",
   "pygments_lexer": "ipython3",
   "version": "3.12.7"
  }
 },
 "nbformat": 4,
 "nbformat_minor": 5
}
