{
 "cells": [
  {
   "cell_type": "code",
   "execution_count": 2,
   "id": "f1b6f08c-fe46-4c38-a994-9c7cb22c61dc",
   "metadata": {},
   "outputs": [],
   "source": [
    "import cv2"
   ]
  },
  {
   "cell_type": "code",
   "execution_count": 24,
   "id": "7b676cc6-1009-4941-92c6-ed5e042acaf6",
   "metadata": {},
   "outputs": [],
   "source": [
    "video=cv2.VideoCapture(0)\n",
    "while(True):\n",
    "    ret,frame=video.read()\n",
    "    gray=cv2.cvtColor(frame,cv2.COLOR_BGR2GRAY)\n",
    "    canny=cv2.Canny(gray,150,50)\n",
    "    #Canny is the method used to detect the edges wher the arguments are image and the filter dimensions\n",
    "    cv2.imshow(\"EDGE IN WEB CAM\",canny)\n",
    "    key=cv2.waitKey(1)\n",
    "    if(key==ord(\"q\")):\n",
    "        break\n",
    "cv2.destroyAllWindows()\n",
    "video.release()"
   ]
  },
  {
   "cell_type": "markdown",
   "id": "fa8c19d8-7660-47ae-a043-ecb3ee4bb31b",
   "metadata": {},
   "source": [
    "DILATION AND EROSION"
   ]
  },
  {
   "cell_type": "markdown",
   "id": "a090a5ab-f5fb-4b3d-bdae-154add3cc3d8",
   "metadata": {},
   "source": [
    "Dilation is the process of thickening the edge where as erosion is used to remove the noise"
   ]
  },
  {
   "cell_type": "markdown",
   "id": "0f759d7a-df76-4bde-8cad-96267fd16855",
   "metadata": {},
   "source": [
    "We use kernel to reduce the noise - erosion and also increase width - Dilation"
   ]
  },
  {
   "cell_type": "code",
   "execution_count": 120,
   "id": "ad29dd2f-064d-4914-a6ed-2457e33980f2",
   "metadata": {},
   "outputs": [],
   "source": [
    "import numpy as np\n",
    "kernel = np.ones((1,2),np.uint8)"
   ]
  },
  {
   "cell_type": "code",
   "execution_count": 122,
   "id": "f08575a1-0590-4d64-9366-74bb931789c3",
   "metadata": {},
   "outputs": [
    {
     "data": {
      "text/plain": [
       "array([[1, 1]], dtype=uint8)"
      ]
     },
     "execution_count": 122,
     "metadata": {},
     "output_type": "execute_result"
    }
   ],
   "source": [
    "kernel"
   ]
  },
  {
   "cell_type": "markdown",
   "id": "ec70c559-23de-4833-a7c9-673e60c8fdb5",
   "metadata": {},
   "source": [
    "kernel is a grid that iterates over the image to remove noise that is it is a filter to reduce the noise "
   ]
  },
  {
   "cell_type": "markdown",
   "id": "c536633b-2794-4d8e-853a-a84b42e18bb1",
   "metadata": {},
   "source": [
    "erode=cv2.erode(img_variable,kernel_refers_filter,iterations=no_of_iterations)\n",
    "\n",
    "dilate=cv2.dilate(img,kernel,iterations)"
   ]
  },
  {
   "cell_type": "code",
   "execution_count": 124,
   "id": "a8ca4b4c-04b4-463d-959b-35fedf973201",
   "metadata": {},
   "outputs": [],
   "source": [
    "video=cv2.VideoCapture(0)\n",
    "while(True):\n",
    "    ret,frame=video.read()\n",
    "    gray=cv2.cvtColor(frame,cv2.COLOR_BGR2GRAY)\n",
    "    canny=cv2.Canny(gray,100,100)\n",
    "    erimg=cv2.erode(canny,kernel,iterations=1)\n",
    "    dilimg=cv2.dilate(erimg,kernel,iterations=1)\n",
    "    #Canny is the method used to detect the edges wher the arguments are image and the filter dimensions\n",
    "    cv2.imshow(\"EDGE IN WEB CAM\",dilimg)\n",
    "    key=cv2.waitKey(1)\n",
    "    if(key==ord(\"q\")):\n",
    "        break\n",
    "cv2.destroyAllWindows()\n",
    "video.release()"
   ]
  },
  {
   "cell_type": "code",
   "execution_count": 114,
   "id": "f05214c2-b82c-4401-a380-02c709e77140",
   "metadata": {},
   "outputs": [
    {
     "data": {
      "text/plain": [
       "array([[1, 1, 1, 1],\n",
       "       [1, 1, 1, 1],\n",
       "       [1, 1, 1, 1],\n",
       "       [1, 1, 1, 1]], dtype=uint8)"
      ]
     },
     "execution_count": 114,
     "metadata": {},
     "output_type": "execute_result"
    }
   ],
   "source": [
    "kernel2=np.ones((4,4),np.uint8)\n",
    "kernel2"
   ]
  },
  {
   "cell_type": "code",
   "execution_count": 116,
   "id": "4f2fbd01-6285-4dd8-84a1-3e55b16e0813",
   "metadata": {},
   "outputs": [],
   "source": [
    "video=cv2.VideoCapture(0)\n",
    "while(True):\n",
    "    ret,frame=video.read()\n",
    "    gray=cv2.cvtColor(frame,cv2.COLOR_BGR2GRAY)\n",
    "    canny=cv2.Canny(gray,100,100)\n",
    "    erimg=cv2.erode(canny,kernel,iterations=1)\n",
    "    dilimg=cv2.dilate(erimg,kernel2,iterations=1)\n",
    "    #Canny is the method used to detect the edges wher the arguments are image and the filter dimensions\n",
    "    cv2.imshow(\"EDGE IN WEB CAM\",dilimg)\n",
    "    key=cv2.waitKey(1)\n",
    "    if(key==ord(\"q\")):\n",
    "        break\n",
    "cv2.destroyAllWindows()\n",
    "video.release()"
   ]
  },
  {
   "cell_type": "code",
   "execution_count": null,
   "id": "8922b14d-952b-4d7c-8976-81501745c7a7",
   "metadata": {},
   "outputs": [],
   "source": []
  }
 ],
 "metadata": {
  "kernelspec": {
   "display_name": "Python [conda env:base] *",
   "language": "python",
   "name": "conda-base-py"
  },
  "language_info": {
   "codemirror_mode": {
    "name": "ipython",
    "version": 3
   },
   "file_extension": ".py",
   "mimetype": "text/x-python",
   "name": "python",
   "nbconvert_exporter": "python",
   "pygments_lexer": "ipython3",
   "version": "3.12.7"
  }
 },
 "nbformat": 4,
 "nbformat_minor": 5
}
