{
 "cells": [
  {
   "cell_type": "code",
   "execution_count": 7,
   "id": "632cc83b-b1c3-476c-8299-82632cf85bda",
   "metadata": {},
   "outputs": [],
   "source": [
    "import cv2\n",
    "#IMPORTING THE OPEN CV LIBRARY"
   ]
  },
  {
   "cell_type": "code",
   "execution_count": 9,
   "id": "82d4220a-3d7b-4396-8828-63862a4ffadd",
   "metadata": {},
   "outputs": [],
   "source": [
    "#imread- argument is the path of the image, the path of the \n",
    "input= cv2.imread(\"WIN_20241123_20_56_49_Pro.jpg\")"
   ]
  },
  {
   "cell_type": "code",
   "execution_count": 13,
   "id": "a11a16bc-21d7-45da-b4e4-7a2f41fdf408",
   "metadata": {},
   "outputs": [],
   "source": [
    "#imshow is used to show the image in the window\n",
    "#it takes the argument the title of the window opened for the image and the image read by cv2\n",
    "cv2.imshow(\"Resultant image\",input)\n",
    "#waitKey is the time taken to close the window \n",
    "# by placing something in the waitKey we provide the delay in ms\n",
    "cv2.waitKey()\n",
    "#destroyallWindows is used to colse all the windows which are open due to the previous commands\n",
    "cv2.destroyAllWindows()"
   ]
  },
  {
   "cell_type": "raw",
   "id": "1661c7b2-b9ad-4b5d-9c91-98bd7c94c32f",
   "metadata": {},
   "source": [
    "USING NUMPY AND EXPLORING THE DATA"
   ]
  },
  {
   "cell_type": "code",
   "execution_count": 15,
   "id": "2365096d-3550-4b12-8aae-ec56c09bfe56",
   "metadata": {},
   "outputs": [],
   "source": [
    "import numpy as np"
   ]
  },
  {
   "cell_type": "code",
   "execution_count": 19,
   "id": "44c3ab9d-0afb-4bfa-b5e3-3eabc093335b",
   "metadata": {},
   "outputs": [
    {
     "data": {
      "text/plain": [
       "(720, 1280, 3)"
      ]
     },
     "execution_count": 19,
     "metadata": {},
     "output_type": "execute_result"
    }
   ],
   "source": [
    "input.shape"
   ]
  },
  {
   "cell_type": "raw",
   "id": "50acf8e6-e934-4059-983a-512ebf020e9a",
   "metadata": {},
   "source": [
    "Here the image is a matrix of colours which is rgb values i.e. a grid of 720*1200 pixcels where each pixcel is represented in a rgb value "
   ]
  },
  {
   "cell_type": "code",
   "execution_count": 21,
   "id": "4b222357-baef-4f58-8e07-7964bf689de2",
   "metadata": {},
   "outputs": [
    {
     "data": {
      "text/plain": [
       "array([[[246, 242, 247],\n",
       "        [245, 241, 246],\n",
       "        [251, 248, 250],\n",
       "        ...,\n",
       "        [206, 197, 187],\n",
       "        [206, 196, 186],\n",
       "        [205, 195, 185]],\n",
       "\n",
       "       [[245, 241, 246],\n",
       "        [246, 243, 245],\n",
       "        [246, 243, 245],\n",
       "        ...,\n",
       "        [206, 197, 187],\n",
       "        [205, 196, 186],\n",
       "        [205, 196, 186]],\n",
       "\n",
       "       [[245, 242, 244],\n",
       "        [248, 245, 247],\n",
       "        [243, 240, 242],\n",
       "        ...,\n",
       "        [204, 198, 185],\n",
       "        [204, 198, 185],\n",
       "        [204, 198, 185]],\n",
       "\n",
       "       ...,\n",
       "\n",
       "       [[ 90,  77,  93],\n",
       "        [ 81,  68,  82],\n",
       "        [ 70,  57,  71],\n",
       "        ...,\n",
       "        [146, 132, 126],\n",
       "        [148, 134, 128],\n",
       "        [145, 131, 125]],\n",
       "\n",
       "       [[ 76,  61,  75],\n",
       "        [ 78,  63,  77],\n",
       "        [ 71,  56,  70],\n",
       "        ...,\n",
       "        [148, 134, 128],\n",
       "        [153, 137, 131],\n",
       "        [150, 134, 128]],\n",
       "\n",
       "       [[ 72,  57,  71],\n",
       "        [ 77,  62,  76],\n",
       "        [ 71,  57,  69],\n",
       "        ...,\n",
       "        [141, 127, 121],\n",
       "        [147, 128, 123],\n",
       "        [151, 132, 127]]], shape=(720, 1280, 3), dtype=uint8)"
      ]
     },
     "execution_count": 21,
     "metadata": {},
     "output_type": "execute_result"
    }
   ],
   "source": [
    "input"
   ]
  },
  {
   "cell_type": "code",
   "execution_count": 27,
   "id": "1bb1cffa-234c-496e-881a-4613c5259d35",
   "metadata": {},
   "outputs": [],
   "source": [
    "# THIS CELL OF CODE IS JUST TO GENERATE AN NP array which is an rgb matrix of circle \n",
    "\n",
    "import numpy as np\n",
    "import matplotlib.pyplot as plt # Optional: for displaying the image\n",
    "\n",
    "def create_circle_image(size=(100, 100), radius=None, center=None, circle_color=(0, 0, 0), background_color=(255, 255, 255)):\n",
    "    \"\"\"\n",
    "    Generates an RGB image (NumPy array) with a white background and a black circle.\n",
    "\n",
    "    Args:\n",
    "        size (tuple): The dimensions of the image (height, width). Default is (100, 100).\n",
    "        radius (int): The radius of the circle. If None, it's calculated as 40% of the smaller dimension.\n",
    "        center (tuple): The (x, y) coordinates of the circle's center. If None, it's the image center.\n",
    "        circle_color (tuple): RGB tuple for the circle color (default: black).\n",
    "        background_color (tuple): RGB tuple for the background color (default: white).\n",
    "\n",
    "    Returns:\n",
    "        numpy.ndarray: A 3D NumPy array representing the RGB image.\n",
    "    \"\"\"\n",
    "    height, width = size\n",
    "    \n",
    "    # Create an empty RGB array filled with the background color\n",
    "    image = np.full((height, width, 3), background_color, dtype=np.uint8)\n",
    "\n",
    "    # Determine the center of the image\n",
    "    if center is None:\n",
    "        center_x, center_y = width // 2, height // 2\n",
    "    else:\n",
    "        center_x, center_y = center\n",
    "\n",
    "    # Determine the radius if not provided\n",
    "    if radius is None:\n",
    "        radius = int(min(width, height) * 0.4) # 40% of the smaller dimension\n",
    "\n",
    "    # Iterate over each pixel and check if it's within the circle\n",
    "    for y in range(height):\n",
    "        for x in range(width):\n",
    "            # Calculate the distance from the current pixel to the center of the circle\n",
    "            distance = np.sqrt((x - center_x)**2 + (y - center_y)**2)\n",
    "\n",
    "            # If the pixel is within the circle's radius, set its color to the circle_color\n",
    "            if distance <= radius:\n",
    "                image[y, x] = circle_color\n",
    "                \n",
    "    return image\n",
    "\n",
    "# --- Generate the image ---\n",
    "image_height = 100\n",
    "image_width = 100\n",
    "circle_radius = 40 # You can adjust this value\n",
    "\n",
    "circle_image = create_circle_image(size=(image_height, image_width), radius=circle_radius)"
   ]
  },
  {
   "cell_type": "code",
   "execution_count": 35,
   "id": "8441bf6b-396f-4152-880c-27787ccc4fb2",
   "metadata": {},
   "outputs": [
    {
     "name": "stdout",
     "output_type": "stream",
     "text": [
      "(100, 100, 3)\n"
     ]
    }
   ],
   "source": [
    "cv2.imshow(\"Circle\",circle_image)\n",
    "cv2.waitKey()\n",
    "cv2.destroyAllWindows()\n",
    "print(circle_image.shape)"
   ]
  },
  {
   "cell_type": "markdown",
   "id": "10d74330-0605-450a-817a-3b5f09ce0ad1",
   "metadata": {},
   "source": [
    "Height and width od image can be measured as "
   ]
  },
  {
   "cell_type": "code",
   "execution_count": 38,
   "id": "5f7db306-574f-45ed-ad79-3df0b1bf8ef6",
   "metadata": {},
   "outputs": [
    {
     "name": "stdout",
     "output_type": "stream",
     "text": [
      "height of image is : 720\n"
     ]
    }
   ],
   "source": [
    "print(\"height of image is :\",int(input.shape[0]))"
   ]
  },
  {
   "cell_type": "code",
   "execution_count": 40,
   "id": "b036e3c2-4979-46b3-bd34-ad76e7ba24d2",
   "metadata": {},
   "outputs": [
    {
     "name": "stdout",
     "output_type": "stream",
     "text": [
      "width of image is : 1280\n"
     ]
    }
   ],
   "source": [
    "print(\"width of image is :\",int(input.shape[1]))"
   ]
  },
  {
   "cell_type": "markdown",
   "id": "0dee83b2-5693-4b03-b62f-2f560eb5cf62",
   "metadata": {},
   "source": [
    "TO SAVE AN IMAGE WE USE imwrite(<'output_file_name.jpg'>,<image to be saved>)"
   ]
  },
  {
   "cell_type": "code",
   "execution_count": null,
   "id": "519cef39-7976-4684-8cad-dcd68c304d00",
   "metadata": {},
   "outputs": [],
   "source": []
  }
 ],
 "metadata": {
  "kernelspec": {
   "display_name": "Python [conda env:base] *",
   "language": "python",
   "name": "conda-base-py"
  },
  "language_info": {
   "codemirror_mode": {
    "name": "ipython",
    "version": 3
   },
   "file_extension": ".py",
   "mimetype": "text/x-python",
   "name": "python",
   "nbconvert_exporter": "python",
   "pygments_lexer": "ipython3",
   "version": "3.12.7"
  }
 },
 "nbformat": 4,
 "nbformat_minor": 5
}
