{
 "cells": [
  {
   "cell_type": "code",
   "execution_count": 3,
   "id": "7dd6d4ea-0a5a-418a-b7b6-7f296eb4e6fe",
   "metadata": {},
   "outputs": [],
   "source": [
    "import cv2\n",
    "import numpy as np"
   ]
  },
  {
   "cell_type": "code",
   "execution_count": 51,
   "id": "4af1b8d9-0681-40b0-88b1-8b19c6508cff",
   "metadata": {},
   "outputs": [],
   "source": [
    "def color(h):\n",
    "    if h>350:\n",
    "        return \"WHITE\"\n",
    "    if h<2:\n",
    "        return \"BLACK\"\n",
    "    elif(h<11 or h>159):\n",
    "        return \"RED\"\n",
    "    elif h<26:\n",
    "        return \"ORANGE\"\n",
    "    elif h<36:\n",
    "        return \"YELLOW\"\n",
    "    elif h<81:\n",
    "        return \"GREEN\"\n",
    "    elif h<131:\n",
    "        return \"BLUE\"\n",
    "    else:\n",
    "        return \"PURPLE\""
   ]
  },
  {
   "cell_type": "code",
   "execution_count": null,
   "id": "0dadf1da-b7d4-4c2c-8427-bca93a2ff25f",
   "metadata": {},
   "outputs": [
    {
     "name": "stdout",
     "output_type": "stream",
     "text": [
      "480 640 3\n"
     ]
    }
   ],
   "source": [
    "video = cv2.VideoCapture(0)\n",
    "_,frame=video.read()\n",
    "(x,y,z)=frame.shape\n",
    "print(x,y,z)\n",
    "while(2):\n",
    "    _,frame=video.read()\n",
    "    hsv=cv2.cvtColor(frame,cv2.COLOR_BGR2HSV)\n",
    "    cv2.circle(frame,(y//2,x//2),5,color=(255,100,100),thickness=2)\n",
    "    text=color(hsv[x//2][y//2][0])\n",
    "    cv2.putText(frame,text,(100,100),color=(300,200,1),fontFace=cv2.FONT_HERSHEY_COMPLEX,fontScale=1.1,thickness=2)\n",
    "    # print(hsv[x//2][y//2])\n",
    "    cv2.imshow(\"web cam activated\",frame)\n",
    "    key=cv2.waitKey(1)\n",
    "    if(key==ord(\"q\")):\n",
    "        break\n",
    "cv2.destroyAllWindows()\n",
    "video.release()"
   ]
  },
  {
   "cell_type": "code",
   "execution_count": 47,
   "id": "35d8dbff-324c-4cc6-8fb6-dbf07aa21846",
   "metadata": {},
   "outputs": [],
   "source": [
    "cv2.destroyAllWindows()\n",
    "video.release()"
   ]
  },
  {
   "cell_type": "code",
   "execution_count": null,
   "id": "8048e88f-105f-4d8d-aec6-f0eac1a42ef0",
   "metadata": {},
   "outputs": [],
   "source": []
  }
 ],
 "metadata": {
  "kernelspec": {
   "display_name": "Python [conda env:base] *",
   "language": "python",
   "name": "conda-base-py"
  },
  "language_info": {
   "codemirror_mode": {
    "name": "ipython",
    "version": 3
   },
   "file_extension": ".py",
   "mimetype": "text/x-python",
   "name": "python",
   "nbconvert_exporter": "python",
   "pygments_lexer": "ipython3",
   "version": "3.12.7"
  }
 },
 "nbformat": 4,
 "nbformat_minor": 5
}
